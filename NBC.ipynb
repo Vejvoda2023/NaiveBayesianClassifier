{
 "cells": [
  {
   "cell_type": "code",
   "id": "initial_id",
   "metadata": {
    "collapsed": true,
    "ExecuteTime": {
     "end_time": "2025-05-09T11:42:17.097947Z",
     "start_time": "2025-05-09T11:42:17.086768Z"
    }
   },
   "source": [
    "import os\n",
    "import jieba\n",
    "from collections import Counter\n",
    "from itertools import chain\n",
    "from numpy import array\n",
    "from sklearn.naive_bayes import MultinomialNB"
   ],
   "outputs": [],
   "execution_count": 5
  },
  {
   "metadata": {
    "ExecuteTime": {
     "end_time": "2025-05-09T11:42:36.721719Z",
     "start_time": "2025-05-09T11:42:36.715196Z"
    }
   },
   "cell_type": "code",
   "source": [
    "# 路径设置\n",
    "folder_path = './data'\n",
    "\n",
    "# 读取邮件内容\n",
    "def load_emails(filenames):\n",
    "    emails = []\n",
    "    for filename in filenames:\n",
    "        with open(os.path.join(folder_path, filename), 'r', encoding='utf-8') as f:\n",
    "            content = f.read()\n",
    "            emails.append(content)\n",
    "    return emails\n",
    "\n",
    "# 加载停用词\n",
    "def load_stopwords(path='cn_stopwords.txt'):\n",
    "    stopwords = set()\n",
    "    with open(path, 'r', encoding='utf-8') as f:\n",
    "        for line in f:\n",
    "            stopwords.add(line.strip())\n",
    "    return stopwords\n",
    "\n",
    "# 分词 + 去停用词\n",
    "def preprocess_emails(raw_emails, stopwords):\n",
    "    processed = []\n",
    "    for email in raw_emails:\n",
    "        tokens = jieba.cut(email)\n",
    "        words = [w for w in tokens if w.strip() and w not in stopwords]\n",
    "        processed.append(words)\n",
    "    return processed  # 注意：返回的是词列表，而不是字符串\n",
    "\n",
    "# 提取高频词\n",
    "def getTopNWords(topN, allWords):\n",
    "    freq = Counter(chain(*allWords))\n",
    "    return [w for w, _ in freq.most_common(topN)]\n",
    "\n",
    "# 构建特征向量\n",
    "def build_feature_vectors(allWords, topWords):\n",
    "    vector = []\n",
    "    for words in allWords:\n",
    "        temp = list(map(lambda x: words.count(x), topWords))\n",
    "        vector.append(temp)\n",
    "    return array(vector)"
   ],
   "id": "4996d87f2d094736",
   "outputs": [],
   "execution_count": 6
  },
  {
   "metadata": {
    "ExecuteTime": {
     "end_time": "2025-05-09T11:42:57.168816Z",
     "start_time": "2025-05-09T11:42:56.804326Z"
    }
   },
   "cell_type": "code",
   "source": [
    "# 步骤1：准备训练数据\n",
    "train_filenames = [f\"{i}.txt\" for i in range(150)]\n",
    "y_train = [1 if i <= 126 else 0 for i in range(150)]\n",
    "\n",
    "# 步骤2：加载内容与预处理\n",
    "raw_emails = load_emails(train_filenames)\n",
    "stopwords = load_stopwords('cn_stopwords.txt')\n",
    "processed_emails = preprocess_emails(raw_emails, stopwords)\n",
    "\n",
    "# 步骤3：提取高频词并构建训练特征向量\n",
    "topWords = getTopNWords(400, processed_emails)\n",
    "X_train = build_feature_vectors(processed_emails, topWords)\n",
    "\n",
    "# 步骤4：训练朴素贝叶斯模型\n",
    "nb_classifier = MultinomialNB()\n",
    "nb_classifier.fit(X_train, y_train)\n",
    "\n",
    "# 步骤5：对剩余的6封邮件进行预测\n",
    "test_filenames = [f\"{i}.txt\" for i in range(150, 156)]\n",
    "raw_test_emails = load_emails(test_filenames)\n",
    "processed_test_emails = preprocess_emails(raw_test_emails, stopwords)\n",
    "X_test = build_feature_vectors(processed_test_emails, topWords)\n",
    "y_test_pred = nb_classifier.predict(X_test)\n",
    "\n",
    "# 输出预测结果\n",
    "for i, filename in enumerate(test_filenames):\n",
    "    print(f\"邮件 {filename} 的预测结果: {'垃圾邮件' if y_test_pred[i] == 1 else '正常邮件'}\")"
   ],
   "id": "d3ed931fec5c1578",
   "outputs": [
    {
     "name": "stdout",
     "output_type": "stream",
     "text": [
      "邮件 150.txt 的预测结果: 正常邮件\n",
      "邮件 151.txt 的预测结果: 正常邮件\n",
      "邮件 152.txt 的预测结果: 垃圾邮件\n",
      "邮件 153.txt 的预测结果: 正常邮件\n",
      "邮件 154.txt 的预测结果: 正常邮件\n",
      "邮件 155.txt 的预测结果: 正常邮件\n"
     ]
    }
   ],
   "execution_count": 7
  },
  {
   "metadata": {
    "ExecuteTime": {
     "end_time": "2025-05-09T11:46:47.339766Z",
     "start_time": "2025-05-09T11:46:47.241401Z"
    }
   },
   "cell_type": "code",
   "source": [
    "def load_test_emails(filenames):\n",
    "    emails = []\n",
    "    for filename in filenames:\n",
    "        with open(os.path.join(folder_path, filename), 'r', encoding='gbk',errors='ignore') as f:\n",
    "            content = f.read()\n",
    "            emails.append(content)\n",
    "    return emails\n",
    "\n",
    "test_filenames = [f\"{i}.txt\" for i in range(156,165)]\n",
    "raw_test_emails = load_test_emails(test_filenames)\n",
    "\n",
    "processed_test_texts = preprocess_emails(raw_test_emails, stopwords)\n",
    "\n",
    "X_test_emails = build_feature_vectors(processed_test_texts, topWords)\n",
    "\n",
    "y_pred = nb_classifier.predict(X_test_emails)\n",
    "\n",
    "for i, filename in enumerate(test_filenames):\n",
    "    print(f\"邮件 {filename} 的预测结果: {'垃圾邮件' if y_pred[i] == 1 else '正常邮件'}\")"
   ],
   "id": "2c74d7e2d7aa6d88",
   "outputs": [
    {
     "name": "stdout",
     "output_type": "stream",
     "text": [
      "邮件 156.txt 的预测结果: 垃圾邮件\n",
      "邮件 157.txt 的预测结果: 正常邮件\n",
      "邮件 158.txt 的预测结果: 垃圾邮件\n",
      "邮件 159.txt 的预测结果: 垃圾邮件\n",
      "邮件 160.txt 的预测结果: 垃圾邮件\n",
      "邮件 161.txt 的预测结果: 垃圾邮件\n",
      "邮件 162.txt 的预测结果: 正常邮件\n",
      "邮件 163.txt 的预测结果: 垃圾邮件\n",
      "邮件 164.txt 的预测结果: 垃圾邮件\n"
     ]
    }
   ],
   "execution_count": 8
  },
  {
   "metadata": {},
   "cell_type": "code",
   "outputs": [],
   "execution_count": null,
   "source": "",
   "id": "295f3d5144157017"
  }
 ],
 "metadata": {
  "kernelspec": {
   "display_name": "Python 3",
   "language": "python",
   "name": "python3"
  },
  "language_info": {
   "codemirror_mode": {
    "name": "ipython",
    "version": 2
   },
   "file_extension": ".py",
   "mimetype": "text/x-python",
   "name": "python",
   "nbconvert_exporter": "python",
   "pygments_lexer": "ipython2",
   "version": "2.7.6"
  }
 },
 "nbformat": 4,
 "nbformat_minor": 5
}
